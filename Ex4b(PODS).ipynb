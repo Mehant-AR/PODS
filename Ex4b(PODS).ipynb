{
  "nbformat": 4,
  "nbformat_minor": 0,
  "metadata": {
    "colab": {
      "provenance": []
    },
    "kernelspec": {
      "name": "python3",
      "display_name": "Python 3"
    },
    "language_info": {
      "name": "python"
    }
  },
  "cells": [
    {
      "cell_type": "code",
      "source": [
        "import pandas as pd\n",
        "df = pd.read_csv(\"/content/sample_data/Reviews.csv\")\n",
        "df = df.dropna(subset=[\"Text\"])\n",
        "df = df[['Text']].head(1000)"
      ],
      "metadata": {
        "id": "mv5N7pT2lynN"
      },
      "execution_count": null,
      "outputs": []
    },
    {
      "cell_type": "code",
      "source": [
        "import spacy\n",
        "nlp = spacy.load(\"en_core_web_sm\")\n",
        "\n",
        "def spacy_preprocess(text):\n",
        "    doc = nlp(text.lower())\n",
        "    tokens = [\n",
        "        token.lemma_ for token in doc\n",
        "        if token.is_alpha and not token.is_stop\n",
        "    ]\n",
        "    return ' '.join(tokens)"
      ],
      "metadata": {
        "id": "10aJOs4MmHmX"
      },
      "execution_count": null,
      "outputs": []
    },
    {
      "cell_type": "code",
      "source": [
        "df['Cleaned_Text'] = df['Text'].apply(spacy_preprocess)"
      ],
      "metadata": {
        "id": "D4JK0MKTmOge"
      },
      "execution_count": null,
      "outputs": []
    },
    {
      "cell_type": "code",
      "source": [
        "from sklearn.feature_extraction.text import TfidfVectorizer\n",
        "\n",
        "vectorizer = TfidfVectorizer()\n",
        "tfidf_matrix = vectorizer.fit_transform(df['Cleaned_Text'])"
      ],
      "metadata": {
        "id": "LWf3jMcOmQrd"
      },
      "execution_count": null,
      "outputs": []
    },
    {
      "cell_type": "code",
      "source": [
        "def process_query(query):\n",
        "    query_cleaned = spacy_preprocess(query)\n",
        "    query_vector = vectorizer.transform([query_cleaned])\n",
        "    return query_vector"
      ],
      "metadata": {
        "id": "V_iuf9vomVJV"
      },
      "execution_count": null,
      "outputs": []
    },
    {
      "cell_type": "code",
      "source": [
        "from sklearn.metrics.pairwise import cosine_similarity\n",
        "def retrieve_reviews(query, k=5):\n",
        "    query_vec = process_query(query)\n",
        "    cosine_sim = cosine_similarity(query_vec, tfidf_matrix).flatten()\n",
        "\n",
        "    top_k_idx = cosine_sim.argsort()[-k:][::-1]\n",
        "\n",
        "    results = df.iloc[top_k_idx].copy()\n",
        "    results['Similarity_Score'] = cosine_sim[top_k_idx]\n",
        "\n",
        "    return results[['Text', 'Cleaned_Text', 'Similarity_Score']]"
      ],
      "metadata": {
        "id": "BF0bMPMEmY7G"
      },
      "execution_count": null,
      "outputs": []
    },
    {
      "cell_type": "code",
      "source": [
        "results = retrieve_reviews(\"great product\", k=5)\n",
        "print(results)"
      ],
      "metadata": {
        "colab": {
          "base_uri": "https://localhost:8080/"
        },
        "id": "dK2P7cFVma7N",
        "outputId": "5c2fe918-4b04-4682-980f-8f8c95f429f9"
      },
      "execution_count": null,
      "outputs": [
        {
          "output_type": "stream",
          "name": "stdout",
          "text": [
            "                                                  Text  \\\n",
            "42   I have McCann's Oatmeal every morning and by o...   \n",
            "181  This is an great product. The taste is great, ...   \n",
            "25   Product received is as advertised.<br /><br />...   \n",
            "934  I have 12 month olds and no time to write a gr...   \n",
            "661  I ordered this product two times now and have ...   \n",
            "\n",
            "                                          Cleaned_Text  Similarity_Score  \n",
            "42   mccann oatmeal morning order amazon able save ...          0.384441  \n",
            "181  great product taste great work exactly describ...          0.331609  \n",
            "25   product receive gp product strawberry ounce ba...          0.330008  \n",
            "934  month old time write great review like flavor ...          0.321406  \n",
            "661  order product time happy delivery product work...          0.320293  \n"
          ]
        }
      ]
    },
    {
      "cell_type": "code",
      "source": [
        "from sklearn.metrics.pairwise import cosine_similarity\n",
        "from sklearn.feature_extraction.text import TfidfVectorizer\n",
        "\n",
        "texts = [\"This product is best\", \"This product is amazing\"]\n",
        "vectorizer = TfidfVectorizer()\n",
        "tfidf = vectorizer.fit_transform(texts)\n",
        "\n",
        "similarity = cosine_similarity(tfidf[0:1], tfidf[1:2])\n",
        "print(similarity)"
      ],
      "metadata": {
        "colab": {
          "base_uri": "https://localhost:8080/"
        },
        "id": "qBGvyWzzm2Zn",
        "outputId": "2dd21e39-4c97-48b5-c189-9151e66f50f7"
      },
      "execution_count": null,
      "outputs": [
        {
          "output_type": "stream",
          "name": "stdout",
          "text": [
            "[[0.60297482]]\n"
          ]
        }
      ]
    }
  ]
}